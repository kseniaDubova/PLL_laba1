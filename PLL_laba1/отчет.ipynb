{
 "cells": [
  {
   "attachments": {},
   "cell_type": "markdown",
   "metadata": {},
   "source": [
    "Лабораторная работа №1\n",
    "\n",
    "Дубова Ксения\n",
    "\n",
    "Задание:\n",
    ">   Написать программу на языке C/C++ для перемножения двух матриц.\n",
    "\n",
    "Результаты подсчета времени для перемножения квадратных матриц в файле result.txt, проверка результата перемножения в python_res.txt\n",
    "\n",
    "По результам работы был составлен график зависимости затраченного времени на перемножение двух матриц от размера матрицы nxn. "
   ]
  },
  {
   "attachments": {},
   "cell_type": "markdown",
   "metadata": {},
   "source": [
    "![](img.png)"
   ]
  }
 ],
 "metadata": {
  "language_info": {
   "name": "python"
  },
  "orig_nbformat": 4
 },
 "nbformat": 4,
 "nbformat_minor": 2
}
